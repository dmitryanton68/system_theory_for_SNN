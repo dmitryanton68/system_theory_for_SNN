{
 "cells": [
  {
   "cell_type": "markdown",
   "metadata": {
    "id": "BhRCglWiOFgO"
   },
   "source": [
    "# Supervised learning of SNN\n",
    "# Preliminary Model0"
   ]
  },
  {
   "cell_type": "code",
   "execution_count": 1,
   "metadata": {
    "_cell_guid": "b1076dfc-b9ad-4769-8c92-a6c4dae69d19",
    "_uuid": "8f2839f25d086af736a60e9eeb907d3b93b6e0e5",
    "execution": {
     "iopub.execute_input": "2021-09-03T05:43:36.448169Z",
     "iopub.status.busy": "2021-09-03T05:43:36.447845Z",
     "iopub.status.idle": "2021-09-03T05:43:47.740923Z",
     "shell.execute_reply": "2021-09-03T05:43:47.739673Z",
     "shell.execute_reply.started": "2021-09-03T05:43:36.448131Z"
    },
    "id": "XJKhb3JvOFgV",
    "scrolled": true
   },
   "outputs": [
    {
     "name": "stderr",
     "output_type": "stream",
     "text": [
      "INFO       Cache size for target \"cython\": 2052 MB.\n",
      "You can call \"clear_cache('cython')\" to delete all files from the cache or manually delete files in the \"/home/dmitry/.cython/brian_extensions\" directory. [brian2]\n"
     ]
    }
   ],
   "source": [
    "from keras.datasets import mnist\n",
    "from brian2 import *\n",
    "from sklearn.ensemble import RandomForestClassifier\n",
    "from sklearn.metrics import accuracy_score, confusion_matrix\n",
    "\n",
    "import pandas as pd\n",
    "import numpy as np\n",
    "import seaborn as sn\n",
    "import matplotlib.pyplot as plt\n",
    "%matplotlib inline\n",
    "\n",
    "import time\n",
    "import random"
   ]
  },
  {
   "cell_type": "markdown",
   "metadata": {},
   "source": [
    "## Data set"
   ]
  },
  {
   "cell_type": "code",
   "execution_count": 2,
   "metadata": {
    "colab": {
     "base_uri": "https://localhost:8080/"
    },
    "execution": {
     "iopub.execute_input": "2021-09-03T05:43:47.743933Z",
     "iopub.status.busy": "2021-09-03T05:43:47.743467Z",
     "iopub.status.idle": "2021-09-03T05:43:48.434183Z",
     "shell.execute_reply": "2021-09-03T05:43:48.433207Z",
     "shell.execute_reply.started": "2021-09-03T05:43:47.743883Z"
    },
    "id": "fffB6EaSOFgY",
    "outputId": "693997d1-59ce-4901-9df2-920ff2077805"
   },
   "outputs": [
    {
     "name": "stdout",
     "output_type": "stream",
     "text": [
      "classes: [0, 1, 5]\n"
     ]
    },
    {
     "data": {
      "text/plain": [
       "((18086, 784), (3007, 784))"
      ]
     },
     "execution_count": 2,
     "metadata": {},
     "output_type": "execute_result"
    }
   ],
   "source": [
    "# select 3 arbitrary classes out of 10\n",
    "\n",
    "classes = [0, 1, 5] #random.sample(range(10), 3)\n",
    "(X_train, y_train), (X_test, y_test) = mnist.load_data()\n",
    "\n",
    "img_size = 28*28 # input image size\n",
    "X_train = X_train.reshape(60000, img_size)\n",
    "X_test = X_test.reshape(10000, img_size)\n",
    "\n",
    "# simplified classification\n",
    "X_train = X_train[(y_train == classes[0]) | (y_train == classes[1]) | (y_train == classes[2])]\n",
    "y_train = y_train[(y_train == classes[0]) | (y_train == classes[1]) | (y_train == classes[2])]\n",
    "X_test = X_test[(y_test == classes[0]) | (y_test == classes[1]) | (y_test == classes[2])]\n",
    "y_test = y_test[(y_test == classes[0]) | (y_test == classes[1]) | (y_test == classes[2])]\n",
    "\n",
    "# pixel intensity to Hz (255 becoms ~63Hz)\n",
    "X_train = X_train / 4\n",
    "X_test = X_test / 4\n",
    "\n",
    "print(f'classes: {classes}')\n",
    "X_train.shape, X_test.shape"
   ]
  },
  {
   "cell_type": "markdown",
   "metadata": {},
   "source": [
    "## Initial data"
   ]
  },
  {
   "cell_type": "code",
   "execution_count": 3,
   "metadata": {},
   "outputs": [],
   "source": [
    "n_input = 28*28 # input layer\n",
    "\n",
    "# Setting 10 neurons per class\n",
    "\n",
    "# 1-st set - Net0\n",
    "n_e = 100 # e - excitatory\n",
    "n_i = n_e # i - inhibitory\n",
    "\n",
    "v_rest_e = -60.*mV # v - membrane potential\n",
    "v_reset_e = -65.*mV\n",
    "v_thresh_e = -52.*mV\n",
    "\n",
    "v_rest_i = -60.*mV\n",
    "v_reset_i = -45.*mV\n",
    "v_thresh_i = -40.*mV\n",
    "\n",
    "# common data\n",
    "taupre = 20*ms\n",
    "taupost = taupre\n",
    "gmax = .05 #.01\n",
    "dApre = .01\n",
    "dApost = -dApre * taupre / taupost * 1.05\n",
    "dApost *= gmax\n",
    "dApre *= gmax\n",
    "\n",
    "wi = 3 # strength of inhibitory synapse in Net0\n",
    "\n",
    "# Apre and Apost - presynaptic and postsynaptic traces, lr - learning rate\n",
    "\n",
    "stdp0='''w : 1\n",
    "    lr : 1\n",
    "    dApre/dt = -Apre / taupre : 1 (event-driven)\n",
    "    dApost/dt = -Apost / taupost : 1 (event-driven)'''\n",
    "\n",
    "pre0='''ge += w\n",
    "    Apre += dApre\n",
    "    w = clip(w + lr*Apost, 0, gmax)'''\n",
    "\n",
    "post0='''Apost += dApost\n",
    "    w = clip(w + lr*Apre, 0, gmax)'''"
   ]
  },
  {
   "cell_type": "markdown",
   "metadata": {},
   "source": [
    "## Model"
   ]
  },
  {
   "cell_type": "code",
   "execution_count": 4,
   "metadata": {
    "execution": {
     "iopub.execute_input": "2021-09-03T05:44:01.649869Z",
     "iopub.status.busy": "2021-09-03T05:44:01.649425Z",
     "iopub.status.idle": "2021-09-03T05:44:01.679627Z",
     "shell.execute_reply": "2021-09-03T05:44:01.67746Z",
     "shell.execute_reply.started": "2021-09-03T05:44:01.649827Z"
    },
    "id": "d0MPKl5OOFgZ"
   },
   "outputs": [],
   "source": [
    "class Model0():\n",
    "\n",
    "    def __init__(self):\n",
    "        app0 = {}\n",
    "        \n",
    "        # input images as rate encoded Poisson generators\n",
    "        app0['PG'] = PoissonGroup(n_input, rates=np.zeros(n_input)*Hz, name='PG')\n",
    "        \n",
    "        # excitatory group\n",
    "        neuron_e = '''\n",
    "            dv/dt = (ge*(0*mV-v) + gi*(-100*mV-v) + (v_rest_e-v)) / (100*ms) : volt\n",
    "            dge/dt = -ge / (5*ms) : 1\n",
    "            dgi/dt = -gi / (10*ms) : 1\n",
    "            '''\n",
    "        app0['EG'] = NeuronGroup(n_e, neuron_e, threshold='v>v_thresh_e', \n",
    "                                refractory=5*ms, reset='v=v_reset_e', method='euler', name='EG')\n",
    "        app0['EG'].v = v_rest_e - 20.*mV       \n",
    "        \n",
    "        \n",
    "        app0['ESP'] = SpikeMonitor(app0['EG'], name='ESP')\n",
    "        app0['ERM'] = PopulationRateMonitor(app0['EG'], name='ERM')                     \n",
    "        \n",
    "        # ibhibitory group\n",
    "        neuron_i = '''\n",
    "            dv/dt = (ge*(0*mV-v) + (v_rest_i-v)) / (10*ms) : volt\n",
    "            dge/dt = -ge / (5*ms) : 1\n",
    "            '''\n",
    "        app0['IG'] = NeuronGroup(n_i, neuron_i, threshold='v>v_thresh_i', refractory=2*ms, \n",
    "                                reset='v=v_reset_i', method='euler', name='IG')\n",
    "        app0['IG'].v = v_rest_i - 20.*mV\n",
    "        \n",
    "        app0['ISP'] = SpikeMonitor(app0['IG'], name='ISP')\n",
    "\n",
    "        # poisson generators one-to-all excitatory neurons with plastic connections \n",
    "        app0['S1'] = Synapses(app0['PG'], app0['EG'], stdp0, on_pre=pre0, on_post=post0, \n",
    "                             method='euler', name='S1') \n",
    "        app0['S1'].connect()\n",
    "        app0['S1'].w = 'rand()*gmax' # random weights initialisation\n",
    "        app0['S1'].lr = 1           # enable stdp    \n",
    " \n",
    "        # excitatory neurons one-to-one inhibitory neurons\n",
    "        app0['S2'] = Synapses(app0['EG'], app0['IG'], 'w : 1', on_pre='ge += w', name='S2')\n",
    "        app0['S2'].connect(j='i')\n",
    "        app0['S2'].delay = 'rand()*10*ms'\n",
    "        app0['S2'].w = wi # very strong fixed weights to ensure corresponding inhibitory neuron will always fire\n",
    "\n",
    "        # inhibitory neurons one-to-all-except-one excitatory neurons\n",
    "        app0['S3'] = Synapses(app0['IG'], app0['EG'], 'w : 1', on_pre='gi += w', name='S3')\n",
    "        app0['S3'].connect(condition='i!=j')\n",
    "        app0['S3'].delay = 'rand()*5*ms'\n",
    "        app0['S3'].w = wi/n_e # weights are selected in such a way as to maintain a balance between excitation and ibhibition\n",
    "\n",
    "        self.net0 = Network(app0.values())\n",
    "        self.net0.run(0*second)\n",
    "\n",
    "    def __getitem__(self, key):\n",
    "        return self.net[key]\n",
    "\n",
    "    def train(self, X, targets, epochs=1):\n",
    "       \n",
    "        # enable stdp \n",
    "        self.net0['S1'].lr = 1         \n",
    "        \n",
    "        for ep in range(epochs):\n",
    "            \n",
    "            for idx in range(len(X)):\n",
    "                yt = int(targets[idx]) # target class\n",
    "         \n",
    "                # active mode\n",
    "                self.net0['PG'].rates = X[idx].ravel()*Hz\n",
    "                self.net0.run(0.35*second)\n",
    "\n",
    "                # passive mode\n",
    "                self.net0['PG'].rates = np.zeros(n_input)*Hz\n",
    "                self.net0.run(0.15*second)"
   ]
  },
  {
   "cell_type": "markdown",
   "metadata": {},
   "source": [
    "## Model activation"
   ]
  },
  {
   "cell_type": "code",
   "execution_count": 6,
   "metadata": {
    "colab": {
     "base_uri": "https://localhost:8080/"
    },
    "execution": {
     "iopub.execute_input": "2021-09-03T05:47:36.506403Z",
     "iopub.status.busy": "2021-09-03T05:47:36.505931Z",
     "iopub.status.idle": "2021-09-03T05:49:36.947686Z",
     "shell.execute_reply": "2021-09-03T05:49:36.946374Z",
     "shell.execute_reply.started": "2021-09-03T05:47:36.506362Z"
    },
    "id": "03MV_iOVOFge",
    "outputId": "7352579a-5d2b-48ea-867b-a9e15472ab2a",
    "scrolled": false
   },
   "outputs": [],
   "source": [
    "# conditions\n",
    "\n",
    "train_items = 5000\n",
    "test_items = 500"
   ]
  },
  {
   "cell_type": "code",
   "execution_count": 7,
   "metadata": {},
   "outputs": [],
   "source": [
    "model0 = Model0()"
   ]
  },
  {
   "cell_type": "markdown",
   "metadata": {},
   "source": [
    "## Model training"
   ]
  },
  {
   "cell_type": "code",
   "execution_count": 8,
   "metadata": {
    "scrolled": true
   },
   "outputs": [
    {
     "name": "stdout",
     "output_type": "stream",
     "text": [
      "processing time: 938 min 41 sec\n"
     ]
    }
   ],
   "source": [
    "start = time.time()\n",
    "\n",
    "model0.train(X_train[:train_items], y_train[:train_items], epochs=1)\n",
    "\n",
    "end = time.time()\n",
    "\n",
    "print(f'processing time: {int((end - start)//60)} min {int((end - start)%60)} sec')"
   ]
  },
  {
   "cell_type": "code",
   "execution_count": 9,
   "metadata": {},
   "outputs": [],
   "source": [
    "# saving for later using\n",
    "\n",
    "model0.net0.store('model0','saved_model0.b2')"
   ]
  },
  {
   "cell_type": "markdown",
   "metadata": {},
   "source": [
    "# ------------------------------------"
   ]
  }
 ],
 "metadata": {
  "colab": {
   "provenance": []
  },
  "kernelspec": {
   "display_name": "Python 3",
   "language": "python",
   "name": "python3"
  },
  "language_info": {
   "codemirror_mode": {
    "name": "ipython",
    "version": 3
   },
   "file_extension": ".py",
   "mimetype": "text/x-python",
   "name": "python",
   "nbconvert_exporter": "python",
   "pygments_lexer": "ipython3",
   "version": "3.8.5"
  }
 },
 "nbformat": 4,
 "nbformat_minor": 1
}
